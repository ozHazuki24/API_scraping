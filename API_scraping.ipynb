{
  "nbformat": 4,
  "nbformat_minor": 0,
  "metadata": {
    "colab": {
      "name": "task4.ipynb",
      "provenance": []
    },
    "kernelspec": {
      "name": "python3",
      "display_name": "Python 3"
    },
    "language_info": {
      "name": "python"
    }
  },
  "cells": [
    {
      "cell_type": "markdown",
      "source": [
        "# APIとは\n",
        "APIとは、**Application Programming Interface**の略で、ソフトウェアやプログラム、Webサービスの間をつなぐインターフェイスのこと。APIを利用することで、様々な既成のサービスを利用したり、それらと連携したりすることが出来る。"
      ],
      "metadata": {
        "id": "Zy8F-rGZSq5V"
      }
    },
    {
      "cell_type": "markdown",
      "source": [
        "# スクレイピングとは\n",
        "Webスクレイピングとは、Webサイトから任意の情報を抽出、整形、解析する技術のこと。"
      ],
      "metadata": {
        "id": "MRuZ6HZMTl4Q"
      }
    },
    {
      "cell_type": "markdown",
      "source": [
        "今回はSUUMOのサイトから物件情報をスクレイピングした。(以下はその際に使用したコード)"
      ],
      "metadata": {
        "id": "UpBWo0UH19q7"
      }
    },
    {
      "cell_type": "code",
      "source": [
        "from time import sleep\n",
        "from bs4 import BeautifulSoup\n",
        "import requests\n",
        "import pandas as pd"
      ],
      "metadata": {
        "id": "0MjMlHBU2KtK"
      },
      "execution_count": null,
      "outputs": []
    },
    {
      "cell_type": "code",
      "source": [
        "r = requests.get(target_url)\n",
        "soup = BeautifulSoup(r.text)"
      ],
      "metadata": {
        "id": "U_i4HymK2d8H"
      },
      "execution_count": null,
      "outputs": []
    },
    {
      "cell_type": "code",
      "source": [
        "url = \"https://suumo.jp/chintai/tokyo/sc_nerima/?page={}\"\n",
        "target_url = url.format(1)\n",
        "\n",
        "print(target_url)\n",
        "\n",
        "\n",
        "d_list = []\n",
        "\n",
        "contents = soup.find_all(\"div\",class_=\"cassetteitem\")\n",
        "\n",
        "for content in contents:\n",
        "   detail = content.find(\"div\",class_=\"cassetteitem_detail\")\n",
        "   table = content.find(\"table\",class_=\"cassetteitem_other\")\n",
        "\n",
        "   title = detail.find(\"div\",class_=\"cassetteitem_content-title\").text\n",
        "   address = detail.find(\"li\",class_=\"cassetteitem_detail-col1\").text\n",
        "   access = detail.find(\"li\",class_=\"cassetteitem_detail-col2\").text\n",
        "   age = detail.find(\"li\",class_=\"cassetteitem_detail-col3\").text\n",
        "\n",
        "tr_tags = table.find_all(\"tr\",class_=\"js-cassette_link\")\n",
        "\n",
        "for tr_tag in tr_tags:\n",
        "  floor,price,first_fee,capacity = tr_tag.find_all(\"td\")[2:6]\n",
        "\n",
        "  fee,management_fee = price.find_all(\"li\")\n",
        "  deposit,gratuity = first_fee.find_all(\"li\")\n",
        "  madori,menseki = capacity.find_all(\"li\")\n",
        "\n",
        "  d = {\n",
        "      \"title\": title,\n",
        "      \"address\":address,\n",
        "      \"access\":access,\n",
        "      \"age\":age,\n",
        "      \"floor\":floor.text,\n",
        "      \"fee\":fee.text,\n",
        "      \"management_fee\":management_fee.text,\n",
        "      \"deposit\":deposit.text,\n",
        "      \"gratuity\":gratuity.text,\n",
        "      \"madori\":madori.text,\n",
        "      \"menseki\":menseki.text\n",
        "  }\n",
        "\n",
        "  d_list.append(d)"
      ],
      "metadata": {
        "id": "Kfixx6TH2ZD_"
      },
      "execution_count": null,
      "outputs": []
    },
    {
      "cell_type": "code",
      "source": [
        "from pprint import pprint"
      ],
      "metadata": {
        "id": "mpF0VKGc2hVR"
      },
      "execution_count": null,
      "outputs": []
    },
    {
      "cell_type": "code",
      "source": [
        "df = pd.DataFrame(d_list)"
      ],
      "metadata": {
        "id": "XN-SwFnn2jSc"
      },
      "execution_count": null,
      "outputs": []
    },
    {
      "cell_type": "code",
      "source": [
        "from google.colab import files\n",
        "filename =  \"sample.csv\"\n",
        "df.to_csv(filename,index=None, encoding = 'utf-8-sig') \n",
        "files.download(filename)"
      ],
      "metadata": {
        "id": "e0kmsvCn2knC"
      },
      "execution_count": null,
      "outputs": []
    }
  ]
}